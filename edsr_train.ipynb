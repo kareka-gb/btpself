{
 "cells": [
  {
   "cell_type": "code",
   "execution_count": 1,
   "metadata": {},
   "outputs": [],
   "source": [
    "from data import drone_data"
   ]
  },
  {
   "cell_type": "code",
   "execution_count": 2,
   "metadata": {},
   "outputs": [],
   "source": [
    "train_loader = drone_data(subset='train')\n",
    "train_ds = train_loader.dataset(batch_size=6)"
   ]
  },
  {
   "cell_type": "code",
   "execution_count": 3,
   "metadata": {},
   "outputs": [],
   "source": [
    "valid_loader = drone_data(subset='valid')\n",
    "valid_ds = valid_loader.dataset(batch_size=1)"
   ]
  },
  {
   "attachments": {},
   "cell_type": "markdown",
   "metadata": {},
   "source": [
    "# EDSR Model"
   ]
  },
  {
   "cell_type": "code",
   "execution_count": 4,
   "metadata": {},
   "outputs": [
    {
     "name": "stdout",
     "output_type": "stream",
     "text": [
      "Model restored from checkpoint at step 2000.\n",
      "Model restored from checkpoint at step 2000.\n"
     ]
    }
   ],
   "source": [
    "import tensorflow as tf\n",
    "from models.edsr import edsr\n",
    "from train import EdsrTrainer\n",
    "\n",
    "trainer = EdsrTrainer(model = edsr(scale=4, num_res_blocks=16),\n",
    "                      checkpoint_dir=f'.ckpt/edsr-16-x4')\n",
    "trainer.train(train_ds,\n",
    "            valid_ds.take(40),\n",
    "            steps=2000,\n",
    "            evaluate_every=20,\n",
    "            save_best_only=True)\n",
    "trainer.restore()"
   ]
  },
  {
   "cell_type": "code",
   "execution_count": 5,
   "metadata": {},
   "outputs": [
    {
     "name": "stdout",
     "output_type": "stream",
     "text": [
      "PSNR = 31.162270\n"
     ]
    }
   ],
   "source": [
    "import os\n",
    "psnr = trainer.evaluate(valid_ds.take(2200))\n",
    "print(f'PSNR = {psnr.numpy():3f}')\n",
    "\n",
    "# Save weights to separate location.\n",
    "os.makedirs('weights/edsr-16-x4', exist_ok=True)\n",
    "trainer.model.save_weights('weights/edsr-16-x4/weights.h5')"
   ]
  },
  {
   "attachments": {},
   "cell_type": "markdown",
   "metadata": {},
   "source": [
    "# WDSR Model"
   ]
  },
  {
   "cell_type": "code",
   "execution_count": 6,
   "metadata": {},
   "outputs": [
    {
     "name": "stdout",
     "output_type": "stream",
     "text": [
      "Model restored from checkpoint at step 3280.\n",
      "WARNING:tensorflow:Unresolved object in checkpoint: (root).optimizer.iter\n",
      "WARNING:tensorflow:Unresolved object in checkpoint: (root).optimizer.beta_1\n",
      "WARNING:tensorflow:Unresolved object in checkpoint: (root).optimizer.beta_2\n",
      "WARNING:tensorflow:Unresolved object in checkpoint: (root).optimizer.decay\n",
      "WARNING:tensorflow:A checkpoint was restored (e.g. tf.train.Checkpoint.restore or tf.keras.Model.load_weights) but not all checkpointed values were used. See above for specific issues. Use expect_partial() on the load status object, e.g. tf.train.Checkpoint.restore(...).expect_partial(), to silence these warnings, or use assert_consumed() to make the check explicit. See https://www.tensorflow.org/guide/checkpoint#loading_mechanics for details.\n",
      "WARNING:tensorflow:Unresolved object in checkpoint: (root).optimizer.iter\n",
      "WARNING:tensorflow:Unresolved object in checkpoint: (root).optimizer.beta_1\n",
      "WARNING:tensorflow:Unresolved object in checkpoint: (root).optimizer.beta_2\n",
      "WARNING:tensorflow:Unresolved object in checkpoint: (root).optimizer.decay\n",
      "WARNING:tensorflow:A checkpoint was restored (e.g. tf.train.Checkpoint.restore or tf.keras.Model.load_weights) but not all checkpointed values were used. See above for specific issues. Use expect_partial() on the load status object, e.g. tf.train.Checkpoint.restore(...).expect_partial(), to silence these warnings, or use assert_consumed() to make the check explicit. See https://www.tensorflow.org/guide/checkpoint#loading_mechanics for details.\n",
      "Model restored from checkpoint at step 3280.\n"
     ]
    }
   ],
   "source": [
    "from models.wdsr import wdsr_b\n",
    "from train import WdsrTrainer\n",
    "\n",
    "trainer = WdsrTrainer(model=wdsr_b(scale=4, num_res_blocks=32), \n",
    "                      checkpoint_dir=f'.ckpt/wdsr-b-8-x4')\n",
    "\n",
    "trainer.train(train_ds,\n",
    "              valid_ds.take(40),\n",
    "              steps=3300, \n",
    "              evaluate_every=40, \n",
    "              save_best_only=True)\n",
    "\n",
    "trainer.restore()"
   ]
  },
  {
   "cell_type": "code",
   "execution_count": 7,
   "metadata": {},
   "outputs": [
    {
     "name": "stdout",
     "output_type": "stream",
     "text": [
      "PSNR = 31.551722\n"
     ]
    }
   ],
   "source": [
    "psnr = trainer.evaluate(valid_ds.take(2200))\n",
    "print(f'PSNR = {psnr.numpy():3f}')"
   ]
  },
  {
   "cell_type": "code",
   "execution_count": 8,
   "metadata": {},
   "outputs": [],
   "source": [
    "import os\n",
    "# Save weights to separate location.\n",
    "os.makedirs('weights/wdsr-b-32-x4', exist_ok=True)\n",
    "trainer.model.save_weights('weights/wdsr-b-32-x4/weights.h5')"
   ]
  },
  {
   "attachments": {},
   "cell_type": "markdown",
   "metadata": {},
   "source": [
    "# SRGAN finetuning EDSR Model"
   ]
  },
  {
   "cell_type": "code",
   "execution_count": 9,
   "metadata": {},
   "outputs": [
    {
     "name": "stdout",
     "output_type": "stream",
     "text": [
      "50/300, perceptual loss = 0.0148, discriminator loss = 2.7900\n",
      "100/300, perceptual loss = 0.0078, discriminator loss = 1.9429\n",
      "150/300, perceptual loss = 0.0085, discriminator loss = 3.0903\n",
      "200/300, perceptual loss = 0.0106, discriminator loss = 2.0236\n",
      "250/300, perceptual loss = 0.0097, discriminator loss = 1.9306\n",
      "300/300, perceptual loss = 0.0086, discriminator loss = 2.4216\n"
     ]
    }
   ],
   "source": [
    "from models.srgan import generator, discriminator\n",
    "from models.edsr import edsr\n",
    "from train import SrganTrainer\n",
    "\n",
    "# Create EDSR generator and init with pre-trained weights\n",
    "generator = edsr(scale=4, num_res_blocks=16)\n",
    "generator.load_weights('weights/edsr-16-x4/weights.h5')\n",
    "\n",
    "# Fine-tune EDSR model via SRGAN training.\n",
    "gan_trainer = SrganTrainer(generator=generator, discriminator=discriminator())\n",
    "gan_trainer.train(train_ds, steps=300)"
   ]
  },
  {
   "cell_type": "code",
   "execution_count": 10,
   "metadata": {},
   "outputs": [],
   "source": [
    "generator.save_weights('weights/edsr-16-x4/finetuned_weights.h5')"
   ]
  },
  {
   "attachments": {},
   "cell_type": "markdown",
   "metadata": {},
   "source": [
    "# SRGAN finetuning WDSR Model"
   ]
  },
  {
   "cell_type": "code",
   "execution_count": 4,
   "metadata": {},
   "outputs": [
    {
     "name": "stdout",
     "output_type": "stream",
     "text": [
      "50/300, perceptual loss = 0.0119, discriminator loss = 3.2831\n",
      "100/300, perceptual loss = 0.0065, discriminator loss = 1.7058\n",
      "150/300, perceptual loss = 0.0075, discriminator loss = 1.8289\n",
      "200/300, perceptual loss = 0.0124, discriminator loss = 2.3117\n",
      "250/300, perceptual loss = 0.0113, discriminator loss = 1.8097\n",
      "300/300, perceptual loss = 0.0097, discriminator loss = 2.7430\n"
     ]
    }
   ],
   "source": [
    "from models.srgan import generator, discriminator\n",
    "from models.wdsr import wdsr_b\n",
    "from train import SrganTrainer\n",
    "\n",
    "# Create WDSR B generator and init with pre-trained weights\n",
    "generator = wdsr_b(scale=4, num_res_blocks=32)\n",
    "generator.load_weights('weights/wdsr-b-32-x4/weights.h5')\n",
    "\n",
    "# Fine-tune WDSR B  model via SRGAN training.\n",
    "gan_trainer = SrganTrainer(generator=generator, discriminator=discriminator())\n",
    "gan_trainer.train(train_ds, steps=300)"
   ]
  },
  {
   "cell_type": "code",
   "execution_count": 5,
   "metadata": {},
   "outputs": [],
   "source": [
    "generator.save_weights('weights/wdsr-b-32-x4/finetuned_weights.h5')"
   ]
  }
 ],
 "metadata": {
  "kernelspec": {
   "display_name": "Python 3 (ipykernel)",
   "language": "python",
   "name": "python3"
  },
  "language_info": {
   "codemirror_mode": {
    "name": "ipython",
    "version": 3
   },
   "file_extension": ".py",
   "mimetype": "text/x-python",
   "name": "python",
   "nbconvert_exporter": "python",
   "pygments_lexer": "ipython3",
   "version": "3.6.13"
  }
 },
 "nbformat": 4,
 "nbformat_minor": 2
}
