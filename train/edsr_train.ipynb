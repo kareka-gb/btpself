{
 "cells": [
  {
   "cell_type": "code",
   "execution_count": 1,
   "metadata": {},
   "outputs": [],
   "source": [
    "from data import drone_data"
   ]
  },
  {
   "cell_type": "code",
   "execution_count": 2,
   "metadata": {},
   "outputs": [],
   "source": [
    "train_loader = drone_data(subset='train')\n",
    "train_ds = train_loader.dataset(batch_size=6)"
   ]
  },
  {
   "cell_type": "code",
   "execution_count": 3,
   "metadata": {},
   "outputs": [],
   "source": [
    "valid_loader = drone_data(subset='valid')\n",
    "valid_ds = valid_loader.dataset(batch_size=1)"
   ]
  },
  {
   "attachments": {},
   "cell_type": "markdown",
   "metadata": {},
   "source": [
    "# EDSR Model"
   ]
  },
  {
   "cell_type": "code",
   "execution_count": 4,
   "metadata": {},
   "outputs": [
    {
     "name": "stdout",
     "output_type": "stream",
     "text": [
      "Model restored from checkpoint at step 2000.\n",
      "Model restored from checkpoint at step 2000.\n"
     ]
    }
   ],
   "source": [
    "import tensorflow as tf\n",
    "from models.edsr import edsr\n",
    "from train import EdsrTrainer\n",
    "\n",
    "trainer = EdsrTrainer(model = edsr(scale=4, num_res_blocks=16),\n",
    "                      checkpoint_dir=f'../.ckpt/edsr-16-x4')\n",
    "trainer.train(train_ds,\n",
    "            valid_ds.take(40),\n",
    "            steps=2000,\n",
    "            evaluate_every=20,\n",
    "            save_best_only=True)\n",
    "trainer.restore()"
   ]
  },
  {
   "cell_type": "code",
   "execution_count": 5,
   "metadata": {},
   "outputs": [
    {
     "name": "stdout",
     "output_type": "stream",
     "text": [
      "PSNR = 31.162270\n"
     ]
    }
   ],
   "source": [
    "import os\n",
    "psnr = trainer.evaluate(valid_ds.take(2200))\n",
    "print(f'PSNR = {psnr.numpy():3f}')\n",
    "\n",
    "# Save weights to separate location.\n",
    "os.makedirs('../weights/edsr-16-x4', exist_ok=True)\n",
    "trainer.model.save_weights('../weights/edsr-16-x4/weights.h5')"
   ]
  },
  {
   "attachments": {},
   "cell_type": "markdown",
   "metadata": {},
   "source": [
    "# WDSR Model"
   ]
  },
  {
   "cell_type": "code",
   "execution_count": 6,
   "metadata": {},
   "outputs": [
    {
     "name": "stdout",
     "output_type": "stream",
     "text": [
      "Model restored from checkpoint at step 3280.\n",
      "WARNING:tensorflow:Unresolved object in checkpoint: (root).optimizer.iter\n",
      "WARNING:tensorflow:Unresolved object in checkpoint: (root).optimizer.beta_1\n",
      "WARNING:tensorflow:Unresolved object in checkpoint: (root).optimizer.beta_2\n",
      "WARNING:tensorflow:Unresolved object in checkpoint: (root).optimizer.decay\n",
      "WARNING:tensorflow:A checkpoint was restored (e.g. tf.train.Checkpoint.restore or tf.keras.Model.load_weights) but not all checkpointed values were used. See above for specific issues. Use expect_partial() on the load status object, e.g. tf.train.Checkpoint.restore(...).expect_partial(), to silence these warnings, or use assert_consumed() to make the check explicit. See https://www.tensorflow.org/guide/checkpoint#loading_mechanics for details.\n",
      "WARNING:tensorflow:Unresolved object in checkpoint: (root).optimizer.iter\n",
      "WARNING:tensorflow:Unresolved object in checkpoint: (root).optimizer.beta_1\n",
      "WARNING:tensorflow:Unresolved object in checkpoint: (root).optimizer.beta_2\n",
      "WARNING:tensorflow:Unresolved object in checkpoint: (root).optimizer.decay\n",
      "WARNING:tensorflow:A checkpoint was restored (e.g. tf.train.Checkpoint.restore or tf.keras.Model.load_weights) but not all checkpointed values were used. See above for specific issues. Use expect_partial() on the load status object, e.g. tf.train.Checkpoint.restore(...).expect_partial(), to silence these warnings, or use assert_consumed() to make the check explicit. See https://www.tensorflow.org/guide/checkpoint#loading_mechanics for details.\n",
      "Model restored from checkpoint at step 3280.\n"
     ]
    }
   ],
   "source": [
    "from models.wdsr import wdsr_b\n",
    "from train import WdsrTrainer\n",
    "\n",
    "trainer = WdsrTrainer(model=wdsr_b(scale=4, num_res_blocks=32), \n",
    "                      checkpoint_dir=f'../.ckpt/wdsr-b-8-x4')\n",
    "\n",
    "trainer.train(train_ds,\n",
    "              valid_ds.take(40),\n",
    "              steps=3300, \n",
    "              evaluate_every=40, \n",
    "              save_best_only=True)\n",
    "\n",
    "trainer.restore()"
   ]
  },
  {
   "cell_type": "code",
   "execution_count": 7,
   "metadata": {},
   "outputs": [
    {
     "name": "stdout",
     "output_type": "stream",
     "text": [
      "PSNR = 31.551722\n"
     ]
    }
   ],
   "source": [
    "psnr = trainer.evaluate(valid_ds.take(2200))\n",
    "print(f'PSNR = {psnr.numpy():3f}')"
   ]
  },
  {
   "cell_type": "code",
   "execution_count": 8,
   "metadata": {},
   "outputs": [],
   "source": [
    "import os\n",
    "# Save weights to separate location.\n",
    "os.makedirs('../weights/wdsr-b-32-x4', exist_ok=True)\n",
    "trainer.model.save_weights('../weights/wdsr-b-32-x4/weights.h5')"
   ]
  },
  {
   "attachments": {},
   "cell_type": "markdown",
   "metadata": {},
   "source": [
    "# SRGAN finetuning EDSR Model"
   ]
  },
  {
   "cell_type": "code",
   "execution_count": 9,
   "metadata": {},
   "outputs": [
    {
     "name": "stdout",
     "output_type": "stream",
     "text": [
      "50/300, perceptual loss = 0.0148, discriminator loss = 2.7900\n",
      "100/300, perceptual loss = 0.0078, discriminator loss = 1.9429\n",
      "150/300, perceptual loss = 0.0085, discriminator loss = 3.0903\n",
      "200/300, perceptual loss = 0.0106, discriminator loss = 2.0236\n",
      "250/300, perceptual loss = 0.0097, discriminator loss = 1.9306\n",
      "300/300, perceptual loss = 0.0086, discriminator loss = 2.4216\n"
     ]
    }
   ],
   "source": [
    "from models.srgan import generator, discriminator\n",
    "from models.edsr import edsr\n",
    "from train import SrganTrainer\n",
    "\n",
    "# Create EDSR generator and init with pre-trained weights\n",
    "generator = edsr(scale=4, num_res_blocks=16)\n",
    "generator.load_weights('../weights/edsr-16-x4/weights.h5')\n",
    "\n",
    "# Fine-tune EDSR model via SRGAN training.\n",
    "gan_trainer = SrganTrainer(generator=generator, discriminator=discriminator())\n",
    "gan_trainer.train(train_ds, steps=300)"
   ]
  },
  {
   "cell_type": "code",
   "execution_count": 10,
   "metadata": {},
   "outputs": [],
   "source": [
    "generator.save_weights('../weights/edsr-16-x4/finetuned_weights.h5')"
   ]
  },
  {
   "attachments": {},
   "cell_type": "markdown",
   "metadata": {},
   "source": [
    "# SRGAN finetuning WDSR Model"
   ]
  },
  {
   "cell_type": "code",
   "execution_count": 4,
   "metadata": {},
   "outputs": [
    {
     "name": "stdout",
     "output_type": "stream",
     "text": [
      "50/300, perceptual loss = 0.0119, discriminator loss = 3.2831\n",
      "100/300, perceptual loss = 0.0065, discriminator loss = 1.7058\n",
      "150/300, perceptual loss = 0.0075, discriminator loss = 1.8289\n",
      "200/300, perceptual loss = 0.0124, discriminator loss = 2.3117\n",
      "250/300, perceptual loss = 0.0113, discriminator loss = 1.8097\n",
      "300/300, perceptual loss = 0.0097, discriminator loss = 2.7430\n"
     ]
    }
   ],
   "source": [
    "from models.srgan import generator, discriminator\n",
    "from models.wdsr import wdsr_b\n",
    "from train import SrganTrainer\n",
    "\n",
    "# Create WDSR B generator and init with pre-trained weights\n",
    "generator = wdsr_b(scale=4, num_res_blocks=32)\n",
    "generator.load_weights('../weights/wdsr-b-32-x4/weights.h5')\n",
    "\n",
    "# Fine-tune WDSR B  model via SRGAN training.\n",
    "gan_trainer = SrganTrainer(generator=generator, discriminator=discriminator())\n",
    "gan_trainer.train(train_ds, steps=300)"
   ]
  },
  {
   "cell_type": "code",
   "execution_count": 5,
   "metadata": {},
   "outputs": [],
   "source": [
    "generator.save_weights('../weights/wdsr-b-32-x4/finetuned_weights.h5')"
   ]
  },
  {
   "attachments": {},
   "cell_type": "markdown",
   "metadata": {},
   "source": [
    "# SRGAN Model"
   ]
  },
  {
   "cell_type": "code",
   "execution_count": 5,
   "metadata": {},
   "outputs": [
    {
     "name": "stdout",
     "output_type": "stream",
     "text": [
      "Model restored from checkpoint at step 200.\n",
      "WARNING:tensorflow:Unresolved object in checkpoint: (root).optimizer.iter\n",
      "WARNING:tensorflow:Unresolved object in checkpoint: (root).optimizer.beta_1\n",
      "WARNING:tensorflow:Unresolved object in checkpoint: (root).optimizer.beta_2\n",
      "WARNING:tensorflow:Unresolved object in checkpoint: (root).optimizer.decay\n",
      "WARNING:tensorflow:Unresolved object in checkpoint: (root).optimizer.learning_rate\n",
      "WARNING:tensorflow:A checkpoint was restored (e.g. tf.train.Checkpoint.restore or tf.keras.Model.load_weights) but not all checkpointed values were used. See above for specific issues. Use expect_partial() on the load status object, e.g. tf.train.Checkpoint.restore(...).expect_partial(), to silence these warnings, or use assert_consumed() to make the check explicit. See https://www.tensorflow.org/guide/checkpoint#loading_mechanics for details.\n",
      "300/4000: loss = 237.381, PSNR = 22.157049 (475.10s)\n",
      "400/4000: loss = 150.067, PSNR = 21.504644 (461.68s)\n",
      "500/4000: loss = 142.026, PSNR = 22.961258 (447.06s)\n",
      "600/4000: loss = 127.015, PSNR = 24.027056 (383.37s)\n",
      "700/4000: loss = 98.534, PSNR = 24.289984 (418.23s)\n",
      "800/4000: loss = 146.285, PSNR = 24.207560 (397.58s)\n",
      "900/4000: loss = 108.621, PSNR = 22.497898 (320.21s)\n",
      "1000/4000: loss = 277.233, PSNR = 26.083469 (321.05s)\n",
      "1100/4000: loss = 224.403, PSNR = 27.737858 (321.09s)\n",
      "1200/4000: loss = 191.350, PSNR = 27.578867 (320.76s)\n",
      "1300/4000: loss = 136.751, PSNR = 26.912033 (320.14s)\n",
      "1400/4000: loss = 152.394, PSNR = 28.228680 (327.34s)\n",
      "1500/4000: loss = 194.451, PSNR = 27.594666 (331.47s)\n",
      "1600/4000: loss = 128.516, PSNR = 26.617075 (330.99s)\n",
      "1700/4000: loss = 126.056, PSNR = 28.367420 (329.10s)\n",
      "1800/4000: loss = 159.528, PSNR = 28.749945 (327.69s)\n",
      "1900/4000: loss = 156.064, PSNR = 22.445560 (328.66s)\n",
      "2000/4000: loss = 68.865, PSNR = 25.233292 (327.05s)\n",
      "2100/4000: loss = 79.442, PSNR = 25.308691 (328.04s)\n",
      "2200/4000: loss = 52.790, PSNR = 26.044516 (327.09s)\n",
      "2300/4000: loss = 59.480, PSNR = 26.167393 (326.82s)\n",
      "2400/4000: loss = 53.809, PSNR = 26.281292 (328.75s)\n",
      "2500/4000: loss = 53.305, PSNR = 26.752728 (328.89s)\n",
      "2600/4000: loss = 73.808, PSNR = 26.624943 (326.07s)\n",
      "2700/4000: loss = 109.386, PSNR = 28.876736 (326.68s)\n",
      "2800/4000: loss = 158.265, PSNR = 28.095257 (326.06s)\n",
      "2900/4000: loss = 130.928, PSNR = 28.984234 (326.70s)\n",
      "3000/4000: loss = 82.254, PSNR = 29.614071 (328.06s)\n",
      "3100/4000: loss = 122.808, PSNR = 29.771118 (327.91s)\n",
      "3200/4000: loss = 113.481, PSNR = 29.684168 (435.71s)\n",
      "3300/4000: loss = 73.119, PSNR = 29.520874 (469.50s)\n",
      "3400/4000: loss = 96.035, PSNR = 30.149868 (517.86s)\n",
      "3500/4000: loss = 150.988, PSNR = 29.109579 (464.36s)\n",
      "3600/4000: loss = 82.152, PSNR = 28.387737 (445.23s)\n",
      "3700/4000: loss = 40.245, PSNR = 28.511114 (475.07s)\n",
      "3800/4000: loss = 44.402, PSNR = 28.860245 (462.56s)\n",
      "3900/4000: loss = 39.156, PSNR = 28.182470 (451.03s)\n",
      "4000/4000: loss = 38.686, PSNR = 29.291464 (442.56s)\n"
     ]
    }
   ],
   "source": [
    "from models.srgan import generator\n",
    "from train import SrganGeneratorTrainer\n",
    "\n",
    "# Create a training context for the generator (SRResNet) alone.\n",
    "pre_trainer = SrganGeneratorTrainer(model=generator(), checkpoint_dir=f'../.ckpt/pre_generator')\n",
    "\n",
    "# Pre-train the generator with 1,000,000 steps (100,000 works fine too). \n",
    "pre_trainer.train(train_ds, valid_ds.take(10), steps=4000, evaluate_every=100)\n",
    "\n",
    "# Save weights of pre-trained generator (needed for fine-tuning with GAN).\n",
    "pre_trainer.model.save_weights('../weights/srgan/pre_generator.h5')"
   ]
  },
  {
   "cell_type": "code",
   "execution_count": 8,
   "metadata": {},
   "outputs": [
    {
     "name": "stdout",
     "output_type": "stream",
     "text": [
      "50/750, perceptual loss = 0.0208, discriminator loss = 3.0945\n",
      "100/750, perceptual loss = 0.0178, discriminator loss = 2.9196\n",
      "150/750, perceptual loss = 0.0208, discriminator loss = 3.9222\n",
      "200/750, perceptual loss = 0.0260, discriminator loss = 6.6371\n",
      "250/750, perceptual loss = 0.0210, discriminator loss = 4.5799\n",
      "300/750, perceptual loss = 0.0185, discriminator loss = 4.6304\n",
      "350/750, perceptual loss = 0.0174, discriminator loss = 4.4746\n",
      "400/750, perceptual loss = 0.0216, discriminator loss = 2.9348\n",
      "450/750, perceptual loss = 0.0181, discriminator loss = 2.7856\n",
      "500/750, perceptual loss = 0.0178, discriminator loss = 3.8018\n",
      "550/750, perceptual loss = 0.0209, discriminator loss = 4.9150\n",
      "600/750, perceptual loss = 0.0193, discriminator loss = 2.6541\n",
      "650/750, perceptual loss = 0.0176, discriminator loss = 3.0440\n",
      "700/750, perceptual loss = 0.0159, discriminator loss = 2.3343\n",
      "750/750, perceptual loss = 0.0340, discriminator loss = 1.0428\n"
     ]
    }
   ],
   "source": [
    "from models.srgan import generator, discriminator\n",
    "from train import SrganTrainer\n",
    "\n",
    "gan_generator = generator()\n",
    "gan_generator.load_weights('../weights/srgan/pre_generator.h5')\n",
    "\n",
    "gan_trainer = SrganTrainer(generator=gan_generator, discriminator=discriminator())\n",
    "\n",
    "gan_trainer.train(train_ds, steps=750)\n",
    "\n",
    "gan_trainer.generator.save_weights('../weights/srgan/gan_generator.h5')\n",
    "gan_trainer.discriminator.save_weights('../weights/srgan/gan_discriminator.h5')"
   ]
  }
 ],
 "metadata": {
  "kernelspec": {
   "display_name": "Python 3 (ipykernel)",
   "language": "python",
   "name": "python3"
  },
  "language_info": {
   "codemirror_mode": {
    "name": "ipython",
    "version": 3
   },
   "file_extension": ".py",
   "mimetype": "text/x-python",
   "name": "python",
   "nbconvert_exporter": "python",
   "pygments_lexer": "ipython3",
   "version": "3.6.13"
  }
 },
 "nbformat": 4,
 "nbformat_minor": 2
}
